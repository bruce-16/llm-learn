{
 "cells": [
  {
   "cell_type": "code",
   "execution_count": 9,
   "id": "647e8c5f",
   "metadata": {},
   "outputs": [],
   "source": [
    "import sys\n",
    "sys.path.append('../')\n",
    "from tool import get_completion"
   ]
  },
  {
   "cell_type": "markdown",
   "id": "605974ce",
   "metadata": {},
   "source": [
    "\n",
    "# 原则一： 清晰、具体的指令"
   ]
  },
  {
   "cell_type": "markdown",
   "id": "9606b3d4",
   "metadata": {},
   "source": [
    "\n",
    "1.1 使用清晰的分隔符来分隔指令和待总结的内容，比如用 ````, <>` 来分隔指令和待总结的内容"
   ]
  },
  {
   "cell_type": "code",
   "execution_count": 10,
   "id": "9288bab1",
   "metadata": {},
   "outputs": [
    {
     "name": "stdout",
     "output_type": "stream",
     "text": [
      "提供清晰、具体且详细的指示可以帮助模型更准确地执行任务并减少错误响应。\n"
     ]
    }
   ],
   "source": [
    "text = f\"\"\"\n",
    "您应该提供尽可能清晰、具体的指示，以表达您希望模型执行的任务。\\\n",
    "这将引导模型朝向所需的输出，并降低收到无关或不正确响应的可能性。\\\n",
    "不要将写清晰的提示词与写简短的提示词混淆。\\\n",
    "在许多情况下，更长的提示词可以为模型提供更多的清晰度和上下文信息，从而导致更详细和相关的输出。\n",
    "\"\"\"\n",
    "# 需要总结的文本内容\n",
    "prompt = f\"\"\"\n",
    "把用三个反引号括起来的文本总结成一句话。\n",
    "```{text}```\n",
    "\"\"\"\n",
    "# 指令内容，使用 ``` 来分隔指令和待总结的内容\n",
    "response = get_completion(prompt)\n",
    "print(response)\n",
    "\n"
   ]
  },
  {
   "cell_type": "markdown",
   "id": "fbe97b53",
   "metadata": {},
   "source": [
    "1.2 寻求结构化的输出"
   ]
  },
  {
   "cell_type": "code",
   "execution_count": 11,
   "id": "4eb17696",
   "metadata": {},
   "outputs": [
    {
     "name": "stdout",
     "output_type": "stream",
     "text": [
      "[\n",
      "    {\n",
      "        \"book_id\": 1,\n",
      "        \"title\": \"梦境的边缘\",\n",
      "        \"author\": \"李晓晨\",\n",
      "        \"genre\": \"奇幻\"\n",
      "    },\n",
      "    {\n",
      "        \"book_id\": 2,\n",
      "        \"title\": \"时间的回声\",\n",
      "        \"author\": \"王思雨\",\n",
      "        \"genre\": \"科幻\"\n",
      "    },\n",
      "    {\n",
      "        \"book_id\": 3,\n",
      "        \"title\": \"遗失的旋律\",\n",
      "        \"author\": \"张伟\",\n",
      "        \"genre\": \"文学\"\n",
      "    }\n",
      "]\n"
     ]
    }
   ],
   "source": [
    "# 让模型用 JSON 格式输出结果\n",
    "# 1. json 格式\n",
    "# 2. completion 不需要有介绍\n",
    "# 3. 不需要用 json 代码块包装\n",
    "prompt = f\"\"\"\n",
    "请生成包括书名、作者和类别的三本虚构的、非真实存在的中文书籍清单，\\\n",
    "并以 JSON 格式提供\\\n",
    "不要有描述, 不需要用代码块包装，只需要输出 JSON 格式字符串\\\n",
    "其中包含以下键: book_id、title、author、genre\n",
    "\"\"\"\n",
    "\n",
    "response = get_completion(prompt)\n",
    "\n",
    "print(response)\n"
   ]
  },
  {
   "cell_type": "markdown",
   "id": "1592f845",
   "metadata": {},
   "source": [
    "1.3 要求模型检查是否满足条件"
   ]
  },
  {
   "cell_type": "code",
   "execution_count": 12,
   "id": "7ca83daf",
   "metadata": {},
   "outputs": [
    {
     "name": "stdout",
     "output_type": "stream",
     "text": [
      "Text 1 的总结:\n",
      "第一步 - 把水烧开。  \n",
      "第二步 - 拿一个杯子并把茶包放进去。  \n",
      "第三步 - 将热水倒在茶包上。  \n",
      "第四步 - 等待一会儿，让茶叶浸泡。  \n",
      "第五步 - 几分钟后，取出茶包。  \n",
      "第六步 - 如果愿意，可以加一些糖或牛奶调味。  \n",
      "第七步 - 享受一杯美味的茶。  \n"
     ]
    }
   ],
   "source": [
    "# 满足条件的输入（text中提供了步骤）\n",
    "text_1 = f\"\"\"\n",
    "泡一杯茶很容易。首先，需要把水烧开。\\\n",
    "在等待期间，拿一个杯子并把茶包放进去。\\\n",
    "一旦水足够热，就把它倒在茶包上。\\\n",
    "等待一会儿，让茶叶浸泡。几分钟后，取出茶包。\\\n",
    "如果您愿意，可以加一些糖或牛奶调味。\\\n",
    "就这样，您可以享受一杯美味的茶了。\n",
    "\"\"\"\n",
    "prompt = f\"\"\"\n",
    "您将获得由三个引号括起来的文本。\\\n",
    "如果它包含一系列的指令，则需要按照以下格式重新编写这些指令：\n",
    "\n",
    "第一步 - ...\n",
    "第二步 - …\n",
    "…\n",
    "第N步 - …\n",
    "\n",
    "如果文本中不包含一系列的指令，则直接写“未提供步骤”。\"\n",
    "\\\"\\\"\\\"{text_1}\\\"\\\"\\\"\n",
    "\"\"\"\n",
    "response = get_completion(prompt)\n",
    "\n",
    "print(\"Text 1 的总结:\")\n",
    "print(response)\n"
   ]
  },
  {
   "cell_type": "code",
   "execution_count": 13,
   "id": "b5df71ff",
   "metadata": {},
   "outputs": [
    {
     "name": "stdout",
     "output_type": "stream",
     "text": [
      "Text 1 的总结:\n",
      "未提供步骤。\n"
     ]
    }
   ],
   "source": [
    "# 不满足条件的输入（text中未提供预期指令）\n",
    "text_1 = f\"\"\"\n",
    "今天阳光明媚，鸟儿在歌唱。\\\n",
    "这是一个去公园散步的美好日子。\\\n",
    "鲜花盛开，树枝在微风中轻轻摇曳。\\\n",
    "人们外出享受着这美好的天气，有些人在野餐，有些人在玩游戏或者在草地上放松。\\\n",
    "这是一个完美的日子，可以在户外度过并欣赏大自然的美景。\n",
    "\"\"\"\n",
    "\n",
    "prompt = f\"\"\"\n",
    "您将获得由三个引号括起来的文本。\\\n",
    "如果它包含一系列的指令，则需要按照以下格式重新编写这些指令：\n",
    "\n",
    "第一步 - ...\n",
    "第二步 - …\n",
    "…\n",
    "第N步 - …\n",
    "\n",
    "如果文本中不包含一系列的指令，则直接写“未提供步骤”。\"\n",
    "\\\"\\\"\\\"{text_1}\\\"\\\"\\\"\n",
    "\"\"\"\n",
    "response = get_completion(prompt)\n",
    "\n",
    "print(\"Text 1 的总结:\")\n",
    "print(response)\n"
   ]
  },
  {
   "cell_type": "markdown",
   "id": "baa8db04",
   "metadata": {},
   "source": [
    "1.4 提供少量示例"
   ]
  },
  {
   "cell_type": "code",
   "execution_count": 14,
   "id": "9d2b60eb",
   "metadata": {},
   "outputs": [
    {
     "name": "stdout",
     "output_type": "stream",
     "text": [
      "<祖父母>: 就像一棵在风暴中弯曲却不折断的树木；如同一颗在逆境中依然努力生长的种子；或是一条在激流中奋力游向岸边的鱼，韧性是面对挑战时不屈不挠的精神。\n"
     ]
    }
   ],
   "source": [
    "prompt = f\"\"\"\n",
    "您的任务是以一致的风格回答问题。\n",
    "\n",
    "<孩子>: 请教我何为耐心。\n",
    "\n",
    "<祖父母>: 挖出最深峡谷的河流源于一处不起眼的泉眼；最宏伟的交响乐从单一的音符开始；最复杂的挂毯以一根孤独的线开始编织。\n",
    "\n",
    "<孩子>: 请教我何为韧性。\n",
    "\"\"\"\n",
    "response = get_completion(prompt)\n",
    "print(response)"
   ]
  }
 ],
 "metadata": {
  "kernelspec": {
   "display_name": "chatgpt",
   "language": "python",
   "name": "python3"
  },
  "language_info": {
   "codemirror_mode": {
    "name": "ipython",
    "version": 3
   },
   "file_extension": ".py",
   "mimetype": "text/x-python",
   "name": "python",
   "nbconvert_exporter": "python",
   "pygments_lexer": "ipython3",
   "version": "3.9.20"
  }
 },
 "nbformat": 4,
 "nbformat_minor": 5
}
